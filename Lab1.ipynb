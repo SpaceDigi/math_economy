{
 "cells": [
  {
   "cell_type": "code",
   "execution_count": 40,
   "metadata": {},
   "outputs": [],
   "source": [
    "import pandas as pd\n",
    "import numpy as np\n",
    "import matplotlib.pyplot as plt\n",
    "import seaborn as sns\n",
    "import warnings\n",
    "warnings.filterwarnings('ignore')\n",
    "from statsmodels.stats.outliers_influence import summary_table\n",
    "from scipy import stats\n",
    "import scipy as sp\n",
    "from scipy.optimize import fsolve"
   ]
  },
  {
   "cell_type": "markdown",
   "metadata": {},
   "source": [
    "####  1) Обрати одну з компаній\n",
    "##### Моїм вибором стала компанія Tesla"
   ]
  },
  {
   "cell_type": "code",
   "execution_count": 16,
   "metadata": {},
   "outputs": [],
   "source": [
    "teslaFrame = pd.read_csv('TSLA.csv')"
   ]
  },
  {
   "cell_type": "code",
   "execution_count": 17,
   "metadata": {},
   "outputs": [
    {
     "data": {
      "text/html": [
       "<div>\n",
       "<style scoped>\n",
       "    .dataframe tbody tr th:only-of-type {\n",
       "        vertical-align: middle;\n",
       "    }\n",
       "\n",
       "    .dataframe tbody tr th {\n",
       "        vertical-align: top;\n",
       "    }\n",
       "\n",
       "    .dataframe thead th {\n",
       "        text-align: right;\n",
       "    }\n",
       "</style>\n",
       "<table border=\"1\" class=\"dataframe\">\n",
       "  <thead>\n",
       "    <tr style=\"text-align: right;\">\n",
       "      <th></th>\n",
       "      <th>Date</th>\n",
       "      <th>Open</th>\n",
       "      <th>High</th>\n",
       "      <th>Low</th>\n",
       "      <th>Close</th>\n",
       "      <th>Adj Close</th>\n",
       "      <th>Volume</th>\n",
       "    </tr>\n",
       "  </thead>\n",
       "  <tbody>\n",
       "    <tr>\n",
       "      <td>0</td>\n",
       "      <td>2011-02-14</td>\n",
       "      <td>23.639999</td>\n",
       "      <td>25.49</td>\n",
       "      <td>22.559999</td>\n",
       "      <td>23.180000</td>\n",
       "      <td>23.180000</td>\n",
       "      <td>11341000</td>\n",
       "    </tr>\n",
       "    <tr>\n",
       "      <td>1</td>\n",
       "      <td>2011-02-21</td>\n",
       "      <td>22.879999</td>\n",
       "      <td>23.85</td>\n",
       "      <td>21.110001</td>\n",
       "      <td>23.610001</td>\n",
       "      <td>23.610001</td>\n",
       "      <td>6071800</td>\n",
       "    </tr>\n",
       "    <tr>\n",
       "      <td>2</td>\n",
       "      <td>2011-02-28</td>\n",
       "      <td>23.740000</td>\n",
       "      <td>24.99</td>\n",
       "      <td>23.500000</td>\n",
       "      <td>24.950001</td>\n",
       "      <td>24.950001</td>\n",
       "      <td>5041200</td>\n",
       "    </tr>\n",
       "    <tr>\n",
       "      <td>3</td>\n",
       "      <td>2011-03-07</td>\n",
       "      <td>24.930000</td>\n",
       "      <td>25.40</td>\n",
       "      <td>23.530001</td>\n",
       "      <td>24.070000</td>\n",
       "      <td>24.070000</td>\n",
       "      <td>6306100</td>\n",
       "    </tr>\n",
       "    <tr>\n",
       "      <td>4</td>\n",
       "      <td>2011-03-14</td>\n",
       "      <td>23.820000</td>\n",
       "      <td>24.00</td>\n",
       "      <td>21.799999</td>\n",
       "      <td>22.959999</td>\n",
       "      <td>22.959999</td>\n",
       "      <td>5265000</td>\n",
       "    </tr>\n",
       "  </tbody>\n",
       "</table>\n",
       "</div>"
      ],
      "text/plain": [
       "         Date       Open   High        Low      Close  Adj Close    Volume\n",
       "0  2011-02-14  23.639999  25.49  22.559999  23.180000  23.180000  11341000\n",
       "1  2011-02-21  22.879999  23.85  21.110001  23.610001  23.610001   6071800\n",
       "2  2011-02-28  23.740000  24.99  23.500000  24.950001  24.950001   5041200\n",
       "3  2011-03-07  24.930000  25.40  23.530001  24.070000  24.070000   6306100\n",
       "4  2011-03-14  23.820000  24.00  21.799999  22.959999  22.959999   5265000"
      ]
     },
     "execution_count": 17,
     "metadata": {},
     "output_type": "execute_result"
    }
   ],
   "source": [
    "teslaFrame.head()"
   ]
  },
  {
   "cell_type": "markdown",
   "metadata": {},
   "source": [
    "###### Дані мають бути за 10 років, але Тесла на є на ринку ще 10 років, тому було відібрано дані від 14 лютого 2011 до 12 лютого 2018"
   ]
  },
  {
   "cell_type": "code",
   "execution_count": 25,
   "metadata": {},
   "outputs": [
    {
     "name": "stdout",
     "output_type": "stream",
     "text": [
      "Max date: 2018-02-12\n",
      "Min date: 2011-02-14\n"
     ]
    }
   ],
   "source": [
    "print(\"Max date: \"+np.max(teslaFrame.Date))\n",
    "print(\"Min date: \"+np.min(teslaFrame.Date))"
   ]
  },
  {
   "cell_type": "markdown",
   "metadata": {},
   "source": [
    "###### В якості параметра для 𝑟 𝑚 𝑝 візьмем дані S&P 500 (^GSPC) про щомісячний прибуток за той самий період"
   ]
  },
  {
   "cell_type": "code",
   "execution_count": 26,
   "metadata": {},
   "outputs": [],
   "source": [
    "sp500 = pd.read_csv('GSPC.csv')"
   ]
  },
  {
   "cell_type": "code",
   "execution_count": 28,
   "metadata": {},
   "outputs": [
    {
     "name": "stdout",
     "output_type": "stream",
     "text": [
      "Max date: 2018-02-12\n",
      "Min date: 2011-02-14\n"
     ]
    }
   ],
   "source": [
    "#Переконалися, що дані S&P за той самий період\n",
    "print(\"Max date: \"+np.max(sp500.Date))\n",
    "print(\"Min date: \"+np.min(sp500.Date))"
   ]
  },
  {
   "cell_type": "markdown",
   "metadata": {},
   "source": [
    "#### Використовуючи комп'ютерне програмне забезпечення для виконання регресійних розрахунків оцініть за допомогою звичайного методу найменших квадратів параметри альфа і бета для довільних двох компаній, що представляють дві обрані галузі. Чи відповідають оцінки бета вашим інтуїтивним уявленням? Чому так або чому ні?\n",
    "###### 𝑥=𝑟_m , 𝑦=𝑟_p, 𝑦𝑖 = 𝛼 + 𝛽𝑥𝑖 + 𝜀𝑖"
   ]
  },
  {
   "cell_type": "code",
   "execution_count": 29,
   "metadata": {},
   "outputs": [],
   "source": [
    "x = (sp500.High+sp500.Low)/2.0\n",
    "y = (teslaFrame.High+teslaFrame.Low)/2.0"
   ]
  },
  {
   "cell_type": "code",
   "execution_count": 31,
   "metadata": {},
   "outputs": [
    {
     "data": {
      "text/plain": [
       "<matplotlib.legend.Legend at 0x1c292f42d0>"
      ]
     },
     "execution_count": 31,
     "metadata": {},
     "output_type": "execute_result"
    },
    {
     "data": {
      "image/png": "[encoded data removed]",
      "text/plain": [
       "<Figure size 1152x648 with 1 Axes>"
      ]
     },
     "metadata": {
      "needs_background": "light"
     },
     "output_type": "display_data"
    }
   ],
   "source": [
    "#Відобразимо x та y на графіку\n",
    "plt.figure(figsize=(16, 9))\n",
    "plt.plot(y, label='y')\n",
    "plt.plot(x, label='x')\n",
    "plt.legend()"
   ]
  },
  {
   "cell_type": "code",
   "execution_count": 33,
   "metadata": {},
   "outputs": [
    {
     "data": {
      "text/plain": [
       "<matplotlib.collections.PathCollection at 0x1c29d64510>"
      ]
     },
     "execution_count": 33,
     "metadata": {},
     "output_type": "execute_result"
    },
    {
     "data": {
      "image/png": "[encoded data removed]",
      "text/plain": [
       "<Figure size 1152x648 with 1 Axes>"
      ]
     },
     "metadata": {
      "needs_background": "light"
     },
     "output_type": "display_data"
    }
   ],
   "source": [
    "#Вивели x та y, та можна уявно провести лінію\n",
    "plt.figure(figsize=(16, 9))\n",
    "plt.scatter(x,y)"
   ]
  },
  {
   "cell_type": "code",
   "execution_count": 43,
   "metadata": {},
   "outputs": [],
   "source": [
    "#Уявно провели лінію, а тепер треба підібрати графік для цієї прямої, котра описує рух наших x та y"
   ]
  },
  {
   "cell_type": "code",
   "execution_count": 45,
   "metadata": {},
   "outputs": [
    {
     "name": "stdout",
     "output_type": "stream",
     "text": [
      "(366, 2)\n"
     ]
    }
   ],
   "source": [
    "A = np.vstack([x, np.ones(len(x))]).T\n",
    "print(np.shape(A))"
   ]
  },
  {
   "cell_type": "code",
   "execution_count": 46,
   "metadata": {},
   "outputs": [
    {
     "name": "stdout",
     "output_type": "stream",
     "text": [
      "Alpha: 0.24665078816205027, Beta: -290.00980916861164\n"
     ]
    }
   ],
   "source": [
    "#Шукаємо альфа та бета\n",
    "# Функція linalg.lstsq() вирішує задачу пошуку найменьших квадратів для лінійного матричного рівняння.\n",
    "alpha, beta = np.linalg.lstsq(A, y)[0]\n",
    "print(\"Alpha: {}, Beta: {}\".format(alpha,beta))"
   ]
  },
  {
   "cell_type": "code",
   "execution_count": 53,
   "metadata": {},
   "outputs": [
    {
     "data": {
      "image/png": "[encoded data removed]",
      "text/plain": [
       "<Figure size 1152x648 with 1 Axes>"
      ]
     },
     "metadata": {
      "needs_background": "light"
     },
     "output_type": "display_data"
    }
   ],
   "source": [
    "#Тепер, коли ми маємо коефіцієнти, то можемо побудувати цю пряму, \n",
    "#та накласти її на х та у - побачити, чи правильно ми підібрали коефіцієнти\n",
    "plt.figure(figsize=(16, 9))\n",
    "plt.scatter(x, y)\n",
    "plt.plot(x, alpha*x + beta, 'r')\n",
    "plt.show()\n",
    "#Важко сказати, \n",
    "#чи відповідають альфа та бета моїм уявленням - досить велика кількість даних+ бета = від'ємне велике число\n",
    "#альфа так, відповідає, а от бета - ні"
   ]
  },
  {
   "cell_type": "markdown",
   "metadata": {},
   "source": [
    "#### Для кожної з компаній перевірте нульову гіпотезу про те, що альфа = 0 (у порівнянні з альтернативною гіпотезою про те, що альфа != 0), використовуючи рівень значимості 5%. Чи означає відкидання цієї нульової гіпотези, що модель ЦОК є невірною? Чому так або чому ні? Визначте довірчий інтервал (з рівнем довіри 95%) для альфа."
   ]
  },
  {
   "cell_type": "code",
   "execution_count": null,
   "metadata": {},
   "outputs": [],
   "source": []
  },
  {
   "cell_type": "markdown",
   "metadata": {},
   "source": [
    "#### Для вашої компаній обчисліть r та R2? Чи відповідають оцінки цих коефіцієнти вашим інтуїтивним уявленням? Чому так або чому ні?"
   ]
  },
  {
   "cell_type": "code",
   "execution_count": 58,
   "metadata": {},
   "outputs": [],
   "source": [
    "r = (np.cov(x,y)/(np.sqrt(np.var(x)*np.var(y))))[0][1]"
   ]
  },
  {
   "cell_type": "code",
   "execution_count": 60,
   "metadata": {},
   "outputs": [
    {
     "name": "stdout",
     "output_type": "stream",
     "text": [
      "0.9550658372608375\n"
     ]
    }
   ],
   "source": [
    "print(r)\n",
    "#Бачимо, що коефіцієнт Пірсона досить високий, а це значить, що лінійна задежность між x та y досить висока"
   ]
  },
  {
   "cell_type": "code",
   "execution_count": 71,
   "metadata": {},
   "outputs": [],
   "source": [
    "# Для себе\n",
    "#SST = SSE+SSR = sum (y_i - y_mean)**2\n",
    "#SSR = sum (y_pred_i - y_mean)**2\n",
    "#SSE = sum (y_i - y_pred_i)**2"
   ]
  },
  {
   "cell_type": "code",
   "execution_count": 80,
   "metadata": {},
   "outputs": [],
   "source": [
    "def SSE(y,y_pred):\n",
    "    sse = 0\n",
    "    for k in range(len(y)):\n",
    "        sse+=((y[k]-y_pred[k])**2)\n",
    "    return sse"
   ]
  },
  {
   "cell_type": "code",
   "execution_count": 81,
   "metadata": {},
   "outputs": [],
   "source": [
    "def SSR(y_pred,y_mean):\n",
    "    ssr = 0\n",
    "    for k in range(len(y_pred)):\n",
    "        ssr+=((y_pred[k]-y_mean)**2)\n",
    "    return ssr"
   ]
  },
  {
   "cell_type": "code",
   "execution_count": 82,
   "metadata": {},
   "outputs": [],
   "source": [
    "def SST(ssr,sse):\n",
    "    return ssr+sse"
   ]
  },
  {
   "cell_type": "code",
   "execution_count": 83,
   "metadata": {},
   "outputs": [],
   "source": [
    "y_mean = np.mean(y)\n",
    "y_pred = []\n",
    "for k in x:\n",
    "    y_pred.append(alpha*k+beta)"
   ]
  },
  {
   "cell_type": "code",
   "execution_count": 88,
   "metadata": {},
   "outputs": [
    {
     "name": "stdout",
     "output_type": "stream",
     "text": [
      "R**2: 0.9071731324868108\n"
     ]
    }
   ],
   "source": [
    "#R**2 = SSR/SST\n",
    "ssr = SSR(y_pred,y_mean)\n",
    "sse = SSE(y,y_pred)\n",
    "R_sq = ssr/SST(ssr,sse)\n",
    "print(\"R**2: {}\".format(R_sq))\n",
    "#Коефіцієнт детермінації має значення близьке до 1, тому можна сказати, що залежність сильна"
   ]
  },
  {
   "cell_type": "markdown",
   "metadata": {},
   "source": [
    "#### Перевірити модель на адекватність (F-статистики);"
   ]
  },
  {
   "cell_type": "code",
   "execution_count": 90,
   "metadata": {},
   "outputs": [],
   "source": [
    "m = 1\n",
    "n = len(y)\n",
    "#F = (sum(y_pred_i - y_pred_mean)**2)/m*((n-m-1)/sum(y_i-y_pred_i)**2)"
   ]
  },
  {
   "cell_type": "code",
   "execution_count": 91,
   "metadata": {},
   "outputs": [
    {
     "name": "stdout",
     "output_type": "stream",
     "text": [
      "3557.278502134968\n"
     ]
    }
   ],
   "source": [
    "F_ch = 0\n",
    "y_pred_mean = np.mean(y_pred)\n",
    "for k in y_pred:\n",
    "    F_ch+=(k-y_pred_mean)**2\n",
    "F_zn = 0\n",
    "for k in range(len(y)):\n",
    "    F_zn+=(y[k]-y_pred[k])**2\n",
    "F = (F_ch/m)*((n-m-1)/F_zn)\n",
    "print(F)"
   ]
  },
  {
   "cell_type": "code",
   "execution_count": 94,
   "metadata": {},
   "outputs": [
    {
     "name": "stdout",
     "output_type": "stream",
     "text": [
      "364\n"
     ]
    }
   ],
   "source": [
    "#Перевіримо значення за таблицею Фішера\n",
    "k1 = 1\n",
    "k2 = n-m-1\n",
    "print(k2)\n",
    "# Звичайно ми беремо наближене значення в таблиці - немає в таблиці значення для k2 = 364, тому F_t = 63.06\n",
    "# Оскільки наше F > F_t - то виходить, що цією моделлю можна користуватися"
   ]
  },
  {
   "cell_type": "markdown",
   "metadata": {},
   "source": [
    "#### Побудувати довірчий діапазон для регресійних значень 𝑦̂ (з рівнем довіри 95%);"
   ]
  },
  {
   "cell_type": "code",
   "execution_count": null,
   "metadata": {},
   "outputs": [],
   "source": []
  },
  {
   "cell_type": "code",
   "execution_count": null,
   "metadata": {},
   "outputs": [],
   "source": []
  },
  {
   "cell_type": "code",
   "execution_count": null,
   "metadata": {},
   "outputs": [],
   "source": []
  },
  {
   "cell_type": "markdown",
   "metadata": {},
   "source": [
    "#### Зробіть прогноз на наступний місяць, якщо ринок підніметься на 20% від попереднього місяця, та побудуйте довірчий інтервал."
   ]
  },
  {
   "cell_type": "code",
   "execution_count": null,
   "metadata": {},
   "outputs": [],
   "source": []
  },
  {
   "cell_type": "code",
   "execution_count": null,
   "metadata": {},
   "outputs": [],
   "source": []
  },
  {
   "cell_type": "code",
   "execution_count": null,
   "metadata": {},
   "outputs": [],
   "source": []
  }
 ],
 "metadata": {
  "kernelspec": {
   "display_name": "Python 3",
   "language": "python",
   "name": "python3"
  },
  "language_info": {
   "codemirror_mode": {
    "name": "ipython",
    "version": 3
   },
   "file_extension": ".py",
   "mimetype": "text/x-python",
   "name": "python",
   "nbconvert_exporter": "python",
   "pygments_lexer": "ipython3",
   "version": "3.7.4"
  }
 },
 "nbformat": 4,
 "nbformat_minor": 2
}
